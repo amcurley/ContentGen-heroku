{
  "nbformat": 4,
  "nbformat_minor": 0,
  "metadata": {
    "colab": {
      "name": "deep_fakes.ipynb",
      "provenance": [],
      "toc_visible": true,
      "machine_shape": "hm",
      "authorship_tag": "ABX9TyN5+CCSd3HtydF2c+Tr8Y1I"
    },
    "kernelspec": {
      "name": "python3",
      "display_name": "Python 3"
    },
    "accelerator": "GPU"
  },
  "cells": [
    {
      "cell_type": "markdown",
      "metadata": {
        "id": "Q_85bZqxotMD"
      },
      "source": [
        "# Demo for paper \"First Order Motion Model for Image Animation\""
      ]
    },
    {
      "cell_type": "code",
      "metadata": {
        "id": "lLNZo-Tqorjc",
        "outputId": "712ba5ee-b9f2-4d69-a4d9-deec60e35df5",
        "colab": {
          "base_uri": "https://localhost:8080/"
        }
      },
      "source": [
        "# Mount Drive\n",
        "from google.colab import drive\n",
        "drive.mount('/content/gdrive')"
      ],
      "execution_count": 2,
      "outputs": [
        {
          "output_type": "stream",
          "text": [
            "Mounted at /content/gdrive\n"
          ],
          "name": "stdout"
        }
      ]
    },
    {
      "cell_type": "code",
      "metadata": {
        "id": "d2EfDb3EpShs",
        "outputId": "f93fe73a-e515-47b6-af4d-9574970567ba",
        "colab": {
          "base_uri": "https://localhost:8080/"
        }
      },
      "source": [
        "%cd /content/gdrive/My\\ Drive/Capstone/deepfakes"
      ],
      "execution_count": 3,
      "outputs": [
        {
          "output_type": "stream",
          "text": [
            "/content/gdrive/My Drive/Capstone/deepfakes\n"
          ],
          "name": "stdout"
        }
      ]
    },
    {
      "cell_type": "code",
      "metadata": {
        "id": "koXAV2aSqnkZ",
        "outputId": "d28f18e4-0792-40bf-9fe2-66c2f6ac7ed9",
        "colab": {
          "base_uri": "https://localhost:8080/"
        }
      },
      "source": [
        "# Run Once\n",
        "!pip install PyYAML==5.3.1\n",
        "!git clone https://github.com/AliaksandrSiarohin/first-order-model\n",
        "%cd first-order-model"
      ],
      "execution_count": 5,
      "outputs": [
        {
          "output_type": "stream",
          "text": [
            "Collecting PyYAML==5.3.1\n",
            "\u001b[?25l  Downloading https://files.pythonhosted.org/packages/64/c2/b80047c7ac2478f9501676c988a5411ed5572f35d1beff9cae07d321512c/PyYAML-5.3.1.tar.gz (269kB)\n",
            "\r\u001b[K     |█▏                              | 10kB 18.2MB/s eta 0:00:01\r\u001b[K     |██▍                             | 20kB 6.6MB/s eta 0:00:01\r\u001b[K     |███▋                            | 30kB 7.6MB/s eta 0:00:01\r\u001b[K     |████▉                           | 40kB 5.9MB/s eta 0:00:01\r\u001b[K     |██████                          | 51kB 5.4MB/s eta 0:00:01\r\u001b[K     |███████▎                        | 61kB 5.2MB/s eta 0:00:01\r\u001b[K     |████████▌                       | 71kB 5.4MB/s eta 0:00:01\r\u001b[K     |█████████▊                      | 81kB 5.3MB/s eta 0:00:01\r\u001b[K     |███████████                     | 92kB 5.4MB/s eta 0:00:01\r\u001b[K     |████████████▏                   | 102kB 5.4MB/s eta 0:00:01\r\u001b[K     |█████████████▍                  | 112kB 5.4MB/s eta 0:00:01\r\u001b[K     |██████████████▋                 | 122kB 5.4MB/s eta 0:00:01\r\u001b[K     |███████████████▉                | 133kB 5.4MB/s eta 0:00:01\r\u001b[K     |█████████████████               | 143kB 5.4MB/s eta 0:00:01\r\u001b[K     |██████████████████▎             | 153kB 5.4MB/s eta 0:00:01\r\u001b[K     |███████████████████▌            | 163kB 5.4MB/s eta 0:00:01\r\u001b[K     |████████████████████▊           | 174kB 5.4MB/s eta 0:00:01\r\u001b[K     |██████████████████████          | 184kB 5.4MB/s eta 0:00:01\r\u001b[K     |███████████████████████▏        | 194kB 5.4MB/s eta 0:00:01\r\u001b[K     |████████████████████████▎       | 204kB 5.4MB/s eta 0:00:01\r\u001b[K     |█████████████████████████▌      | 215kB 5.4MB/s eta 0:00:01\r\u001b[K     |██████████████████████████▊     | 225kB 5.4MB/s eta 0:00:01\r\u001b[K     |████████████████████████████    | 235kB 5.4MB/s eta 0:00:01\r\u001b[K     |█████████████████████████████▏  | 245kB 5.4MB/s eta 0:00:01\r\u001b[K     |██████████████████████████████▍ | 256kB 5.4MB/s eta 0:00:01\r\u001b[K     |███████████████████████████████▋| 266kB 5.4MB/s eta 0:00:01\r\u001b[K     |████████████████████████████████| 276kB 5.4MB/s \n",
            "\u001b[?25hBuilding wheels for collected packages: PyYAML\n",
            "  Building wheel for PyYAML (setup.py) ... \u001b[?25l\u001b[?25hdone\n",
            "  Created wheel for PyYAML: filename=PyYAML-5.3.1-cp36-cp36m-linux_x86_64.whl size=44619 sha256=fdde2d1cfeed4d2d105af8c515c1b6c2ecc52ff4eb7afcf319f8cf0293a94a11\n",
            "  Stored in directory: /root/.cache/pip/wheels/a7/c1/ea/cf5bd31012e735dc1dfea3131a2d5eae7978b251083d6247bd\n",
            "Successfully built PyYAML\n",
            "Installing collected packages: PyYAML\n",
            "  Found existing installation: PyYAML 3.13\n",
            "    Uninstalling PyYAML-3.13:\n",
            "      Successfully uninstalled PyYAML-3.13\n",
            "Successfully installed PyYAML-5.3.1\n",
            "Cloning into 'first-order-model'...\n",
            "remote: Enumerating objects: 3, done.\u001b[K\n",
            "remote: Counting objects: 100% (3/3), done.\u001b[K\n",
            "remote: Compressing objects: 100% (3/3), done.\u001b[K\n",
            "remote: Total 249 (delta 0), reused 0 (delta 0), pack-reused 246\u001b[K\n",
            "Receiving objects: 100% (249/249), 72.13 MiB | 16.49 MiB/s, done.\n",
            "Resolving deltas: 100% (121/121), done.\n",
            "Checking out files: 100% (46/46), done.\n",
            "/content/gdrive/My Drive/Capstone/deepfakes/first-order-model\n"
          ],
          "name": "stdout"
        }
      ]
    },
    {
      "cell_type": "code",
      "metadata": {
        "id": "fK7asLOCuuzF",
        "outputId": "558d05c2-2514-40d7-9967-9c49a0f616c9",
        "colab": {
          "base_uri": "https://localhost:8080/"
        }
      },
      "source": [
        "%cd first-order-model"
      ],
      "execution_count": 4,
      "outputs": [
        {
          "output_type": "stream",
          "text": [
            "/content/gdrive/My Drive/Capstone/deepfakes/first-order-model\n"
          ],
          "name": "stdout"
        }
      ]
    },
    {
      "cell_type": "code",
      "metadata": {
        "id": "Skq76jmOqwX6"
      },
      "source": [
        "import imageio\n",
        "import numpy as np\n",
        "import matplotlib.pyplot as plt\n",
        "import matplotlib.animation as animation\n",
        "from skimage.transform import resize\n",
        "from IPython.display import HTML\n",
        "import warnings\n",
        "from demo import load_checkpoints\n",
        "from demo import make_animation\n",
        "from skimage import img_as_ubyte\n",
        "warnings.filterwarnings(\"ignore\")"
      ],
      "execution_count": 37,
      "outputs": []
    },
    {
      "cell_type": "code",
      "metadata": {
        "id": "TbT9Elqsvmwt"
      },
      "source": [
        "def display(source, driving, generated=None):\n",
        "    fig = plt.figure(figsize=(8 + 4 * (generated is not None), 6))\n",
        "\n",
        "    ims = []\n",
        "    for i in range(len(driving)):\n",
        "        cols = [source]\n",
        "        cols.append(driving[i])\n",
        "        if generated is not None:\n",
        "            cols.append(generated[i])\n",
        "        im = plt.imshow(np.concatenate(cols, axis=1), animated=True)\n",
        "        plt.axis('off')\n",
        "        ims.append([im])\n",
        "\n",
        "    ani = animation.ArtistAnimation(fig, ims, interval=60, repeat_delay=1000)\n",
        "    plt.close()\n",
        "    return ani\n",
        "\n",
        "\n",
        "def deep_fake(image, video, i):\n",
        "  source_image = imageio.imread(f'/content/gdrive/My Drive/Capstone/deepfakes/media/{image}')\n",
        "  driving_video = imageio.mimread(f'/content/gdrive/My Drive/Capstone/deepfakes/media/{video}', memtest=False) # Needed if video quality is to good.\n",
        "  \n",
        "  #Resize image and video to 256x256\n",
        "  source_image = resize(source_image, (256, 256))[..., :3]\n",
        "  driving_video = [resize(frame, (256, 256))[..., :3] for frame in driving_video]\n",
        "\n",
        "  generator, kp_detector = load_checkpoints(config_path='config/vox-256.yaml', \n",
        "                            checkpoint_path='/content/gdrive/My Drive/Capstone/deepfakes/media/vox-cpk.pth.tar') \n",
        "\n",
        "  predictions = make_animation(source_image, driving_video, generator, kp_detector, relative=True)\n",
        "\n",
        "  #save resulting video\n",
        "  imageio.mimsave(f'../generated{i}.gif', [img_as_ubyte(frame) for frame in predictions])\n",
        "  #video can be downloaded from /content folder\n",
        "\n",
        "  return HTML(display(source_image, driving_video, predictions).to_html5_video())"
      ],
      "execution_count": 43,
      "outputs": []
    },
    {
      "cell_type": "code",
      "metadata": {
        "id": "LNClutaY1BBc",
        "outputId": "19b51eab-443a-45a3-ff1e-a6570716631e",
        "colab": {
          "base_uri": "https://localhost:8080/"
        }
      },
      "source": [
        "for i in range(1, 2):\n",
        "  deep_fake(f\"seed{i}.png\", \"04.mp4\", i)"
      ],
      "execution_count": 44,
      "outputs": [
        {
          "output_type": "stream",
          "text": [
            "100%|██████████| 211/211 [00:04<00:00, 48.96it/s]\n"
          ],
          "name": "stderr"
        }
      ]
    }
  ]
}